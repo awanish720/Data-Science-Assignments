{
 "cells": [
  {
   "cell_type": "raw",
   "metadata": {},
   "source": [
    "Questions 1:\n",
    "\n",
    "Given the following jumbled word, OBANWRI guess the correct English word.\n",
    "\n",
    "A. RANIBOW\n",
    "B. RAINBOW\n",
    "C. BOWRANI\n",
    "D. ROBWANI"
   ]
  },
  {
   "cell_type": "raw",
   "metadata": {},
   "source": [
    "Ans:- B.RAINBOW"
   ]
  },
  {
   "cell_type": "code",
   "execution_count": null,
   "metadata": {},
   "outputs": [],
   "source": []
  },
  {
   "cell_type": "raw",
   "metadata": {},
   "source": [
    "Questions 2:\n",
    "\n",
    "Write a program which prints “LETS UPGRADE”. (Please note that you have to\n",
    "print in ALL CAPS as given)"
   ]
  },
  {
   "cell_type": "code",
   "execution_count": 1,
   "metadata": {},
   "outputs": [
    {
     "name": "stdout",
     "output_type": "stream",
     "text": [
      "LETS UPGRADE\n"
     ]
    }
   ],
   "source": [
    "print(\"LETS UPGRADE\")"
   ]
  },
  {
   "cell_type": "raw",
   "metadata": {},
   "source": [
    "Questions 3:\n",
    "\n",
    "Write a program that takes cost price and selling price as input and displays whether the transaction is a\n",
    "Profit or a Loss or Neither.\n",
    "INPUT FORMAT\n",
    "The first line contains the cost price.\n",
    "The second line contains the selling price.\n",
    "OUTPUT FORMAT\n",
    "Print \"Profit\" if the transaction is a profit or \"Loss\" if it is a loss. If it is neither\n",
    "profit nor loss, print \"Neither\". (You must not have quotes in your output)"
   ]
  },
  {
   "cell_type": "code",
   "execution_count": 2,
   "metadata": {},
   "outputs": [
    {
     "name": "stdout",
     "output_type": "stream",
     "text": [
      "Cost Price=20\n",
      "Selling Price=30\n",
      "Profit\n"
     ]
    }
   ],
   "source": [
    "cp = input(\"Cost Price=\")\n",
    "sp = input(\"Selling Price=\")\n",
    "if sp>cp:\n",
    "    print(\"Profit\")\n",
    "elif sp<cp:\n",
    "    print(\"Loss\")\n",
    "else:\n",
    "    print(\"Neither\")"
   ]
  },
  {
   "cell_type": "code",
   "execution_count": 8,
   "metadata": {},
   "outputs": [
    {
     "name": "stdout",
     "output_type": "stream",
     "text": [
      "Cost Price=50\n",
      "Selling Price=30\n",
      "Loss\n"
     ]
    }
   ],
   "source": [
    "cp = input(\"Cost Price=\")\n",
    "sp = input(\"Selling Price=\")\n",
    "if sp>cp:\n",
    "    print(\"Profit\")\n",
    "elif sp<cp:\n",
    "    print(\"Loss\")\n",
    "else:\n",
    "    print(\"Neither\")"
   ]
  },
  {
   "cell_type": "code",
   "execution_count": 9,
   "metadata": {},
   "outputs": [
    {
     "name": "stdout",
     "output_type": "stream",
     "text": [
      "Cost Price=20\n",
      "Selling Price=20\n",
      "Neither\n"
     ]
    }
   ],
   "source": [
    "cp = input(\"Cost Price=\")\n",
    "sp = input(\"Selling Price=\")\n",
    "if sp>cp:\n",
    "    print(\"Profit\")\n",
    "elif sp<cp:\n",
    "    print(\"Loss\")\n",
    "else:\n",
    "    print(\"Neither\")"
   ]
  },
  {
   "cell_type": "raw",
   "metadata": {},
   "source": [
    "Questions 4:\n",
    "\n",
    "Write a program that takes an amount in Euros as input. You need to find its equivalent in\n",
    "Rupees and display it. Assume 1 Euro equals Rs. 80.\n",
    "Please note that you are expected to stick to the given input and output\n",
    "format as in sample test cases. Please don't add any extra lines such as\n",
    "'Enter a number', etc.\n",
    "Your program should take only one number as input and display the output."
   ]
  },
  {
   "cell_type": "code",
   "execution_count": 15,
   "metadata": {},
   "outputs": [
    {
     "name": "stdout",
     "output_type": "stream",
     "text": [
      "Amount in Euro=20\n",
      "Amount in Rupees= 1600\n"
     ]
    }
   ],
   "source": [
    "n = int(input(\"Amount in Euro=\"))\n",
    "R = n*80\n",
    "print(\"Amount in Rupees=\",R)\n"
   ]
  },
  {
   "cell_type": "code",
   "execution_count": 16,
   "metadata": {},
   "outputs": [
    {
     "name": "stdout",
     "output_type": "stream",
     "text": [
      "Amount in Euro=50\n",
      "Amount in Rupees= 4000\n"
     ]
    }
   ],
   "source": [
    "n = int(input(\"Amount in Euro=\"))\n",
    "R = n*80\n",
    "print(\"Amount in Rupees=\",R)"
   ]
  },
  {
   "cell_type": "code",
   "execution_count": 17,
   "metadata": {},
   "outputs": [
    {
     "name": "stdout",
     "output_type": "stream",
     "text": [
      "Amount in Euro=72\n",
      "Amount in Rupees= 5760\n"
     ]
    }
   ],
   "source": [
    "n = int(input(\"Amount in Euro=\"))\n",
    "R = n*80\n",
    "print(\"Amount in Rupees=\",R)\n"
   ]
  },
  {
   "cell_type": "code",
   "execution_count": 18,
   "metadata": {},
   "outputs": [
    {
     "name": "stdout",
     "output_type": "stream",
     "text": [
      "Amount in Euro=7\n",
      "Amount in Rupees= 560\n"
     ]
    }
   ],
   "source": [
    "n = int(input(\"Amount in Euro=\"))\n",
    "R = n*80\n",
    "print(\"Amount in Rupees=\",R)"
   ]
  },
  {
   "cell_type": "code",
   "execution_count": 19,
   "metadata": {},
   "outputs": [
    {
     "name": "stdout",
     "output_type": "stream",
     "text": [
      "Amount in Euro=35\n",
      "Amount in Rupees= 2800\n"
     ]
    }
   ],
   "source": [
    "n = int(input(\"Amount in Euro=\"))\n",
    "R = n*80\n",
    "print(\"Amount in Rupees=\",R)"
   ]
  },
  {
   "cell_type": "code",
   "execution_count": 20,
   "metadata": {},
   "outputs": [
    {
     "name": "stdout",
     "output_type": "stream",
     "text": [
      "Amount in Euro=23\n",
      "Amount in Rupees= 1840\n"
     ]
    }
   ],
   "source": [
    "n = int(input(\"Amount in Euro=\"))\n",
    "R = n*80\n",
    "print(\"Amount in Rupees=\",R)"
   ]
  },
  {
   "cell_type": "code",
   "execution_count": 21,
   "metadata": {},
   "outputs": [
    {
     "name": "stdout",
     "output_type": "stream",
     "text": [
      "Amount in Euro=95\n",
      "Amount in Rupees= 7600\n"
     ]
    }
   ],
   "source": [
    "n = int(input(\"Amount in Euro=\"))\n",
    "R = n*80\n",
    "print(\"Amount in Rupees=\",R)"
   ]
  },
  {
   "cell_type": "code",
   "execution_count": 22,
   "metadata": {},
   "outputs": [
    {
     "name": "stdout",
     "output_type": "stream",
     "text": [
      "Amount in Euro=18\n",
      "Amount in Rupees= 1440\n"
     ]
    }
   ],
   "source": [
    "n = int(input(\"Amount in Euro=\"))\n",
    "R = n*80\n",
    "print(\"Amount in Rupees=\",R)"
   ]
  },
  {
   "cell_type": "raw",
   "metadata": {},
   "source": [
    "********************************************End of the Assignment**************************************************************"
   ]
  }
 ],
 "metadata": {
  "kernelspec": {
   "display_name": "Python 3",
   "language": "python",
   "name": "python3"
  },
  "language_info": {
   "codemirror_mode": {
    "name": "ipython",
    "version": 3
   },
   "file_extension": ".py",
   "mimetype": "text/x-python",
   "name": "python",
   "nbconvert_exporter": "python",
   "pygments_lexer": "ipython3",
   "version": "3.8.3"
  }
 },
 "nbformat": 4,
 "nbformat_minor": 4
}
